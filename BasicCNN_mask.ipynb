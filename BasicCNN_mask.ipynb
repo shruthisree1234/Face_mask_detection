{
 "cells": [
  {
   "cell_type": "code",
   "execution_count": 1,
   "metadata": {},
   "outputs": [
    {
     "name": "stdout",
     "output_type": "stream",
     "text": [
      "{'without_mask': 0, 'with_mask': 1}\n",
      "['without_mask', 'with_mask']\n",
      "[0, 1]\n"
     ]
    }
   ],
   "source": [
    "import cv2,os\n",
    "data_path=r\"C:\\Users\\shruthi sree\\Downloads\\Face-Mask-Detection-master\\Face-Mask-Detection-master\\dataset\"\n",
    "categories=os.listdir(data_path)\n",
    "labels=[i for i in range(len(categories))]\n",
    "\n",
    "label_dict=dict(zip(categories,labels)) \n",
    "print(label_dict)\n",
    "print(categories)\n",
    "print(labels)"
   ]
  },
  {
   "cell_type": "code",
   "execution_count": 2,
   "metadata": {},
   "outputs": [
    {
     "name": "stdout",
     "output_type": "stream",
     "text": [
      "Exception: OpenCV(4.5.1) C:\\Users\\appveyor\\AppData\\Local\\Temp\\1\\pip-req-build-kh7iq4w7\\opencv\\modules\\imgproc\\src\\color.cpp:182: error: (-215:Assertion failed) !_src.empty() in function 'cv::cvtColor'\n",
      "\n",
      "Exception: OpenCV(4.5.1) C:\\Users\\appveyor\\AppData\\Local\\Temp\\1\\pip-req-build-kh7iq4w7\\opencv\\modules\\imgproc\\src\\color.cpp:182: error: (-215:Assertion failed) !_src.empty() in function 'cv::cvtColor'\n",
      "\n",
      "Exception: OpenCV(4.5.1) C:\\Users\\appveyor\\AppData\\Local\\Temp\\1\\pip-req-build-kh7iq4w7\\opencv\\modules\\imgproc\\src\\color.cpp:182: error: (-215:Assertion failed) !_src.empty() in function 'cv::cvtColor'\n",
      "\n",
      "Exception: OpenCV(4.5.1) C:\\Users\\appveyor\\AppData\\Local\\Temp\\1\\pip-req-build-kh7iq4w7\\opencv\\modules\\imgproc\\src\\color.cpp:182: error: (-215:Assertion failed) !_src.empty() in function 'cv::cvtColor'\n",
      "\n",
      "Exception: OpenCV(4.5.1) C:\\Users\\appveyor\\AppData\\Local\\Temp\\1\\pip-req-build-kh7iq4w7\\opencv\\modules\\imgproc\\src\\color.cpp:182: error: (-215:Assertion failed) !_src.empty() in function 'cv::cvtColor'\n",
      "\n",
      "Exception: OpenCV(4.5.1) C:\\Users\\appveyor\\AppData\\Local\\Temp\\1\\pip-req-build-kh7iq4w7\\opencv\\modules\\imgproc\\src\\color.cpp:182: error: (-215:Assertion failed) !_src.empty() in function 'cv::cvtColor'\n",
      "\n",
      "Exception: OpenCV(4.5.1) C:\\Users\\appveyor\\AppData\\Local\\Temp\\1\\pip-req-build-kh7iq4w7\\opencv\\modules\\imgproc\\src\\color.cpp:182: error: (-215:Assertion failed) !_src.empty() in function 'cv::cvtColor'\n",
      "\n",
      "Exception: OpenCV(4.5.1) C:\\Users\\appveyor\\AppData\\Local\\Temp\\1\\pip-req-build-kh7iq4w7\\opencv\\modules\\imgproc\\src\\color.cpp:182: error: (-215:Assertion failed) !_src.empty() in function 'cv::cvtColor'\n",
      "\n",
      "Exception: OpenCV(4.5.1) C:\\Users\\appveyor\\AppData\\Local\\Temp\\1\\pip-req-build-kh7iq4w7\\opencv\\modules\\imgproc\\src\\color.cpp:182: error: (-215:Assertion failed) !_src.empty() in function 'cv::cvtColor'\n",
      "\n",
      "Exception: OpenCV(4.5.1) C:\\Users\\appveyor\\AppData\\Local\\Temp\\1\\pip-req-build-kh7iq4w7\\opencv\\modules\\imgproc\\src\\color.cpp:182: error: (-215:Assertion failed) !_src.empty() in function 'cv::cvtColor'\n",
      "\n",
      "Exception: OpenCV(4.5.1) C:\\Users\\appveyor\\AppData\\Local\\Temp\\1\\pip-req-build-kh7iq4w7\\opencv\\modules\\imgproc\\src\\color.cpp:182: error: (-215:Assertion failed) !_src.empty() in function 'cv::cvtColor'\n",
      "\n",
      "Exception: OpenCV(4.5.1) C:\\Users\\appveyor\\AppData\\Local\\Temp\\1\\pip-req-build-kh7iq4w7\\opencv\\modules\\imgproc\\src\\color.cpp:182: error: (-215:Assertion failed) !_src.empty() in function 'cv::cvtColor'\n",
      "\n",
      "Exception: OpenCV(4.5.1) C:\\Users\\appveyor\\AppData\\Local\\Temp\\1\\pip-req-build-kh7iq4w7\\opencv\\modules\\imgproc\\src\\color.cpp:182: error: (-215:Assertion failed) !_src.empty() in function 'cv::cvtColor'\n",
      "\n",
      "Exception: OpenCV(4.5.1) C:\\Users\\appveyor\\AppData\\Local\\Temp\\1\\pip-req-build-kh7iq4w7\\opencv\\modules\\imgproc\\src\\color.cpp:182: error: (-215:Assertion failed) !_src.empty() in function 'cv::cvtColor'\n",
      "\n",
      "Exception: OpenCV(4.5.1) C:\\Users\\appveyor\\AppData\\Local\\Temp\\1\\pip-req-build-kh7iq4w7\\opencv\\modules\\imgproc\\src\\color.cpp:182: error: (-215:Assertion failed) !_src.empty() in function 'cv::cvtColor'\n",
      "\n",
      "Exception: OpenCV(4.5.1) C:\\Users\\appveyor\\AppData\\Local\\Temp\\1\\pip-req-build-kh7iq4w7\\opencv\\modules\\imgproc\\src\\color.cpp:182: error: (-215:Assertion failed) !_src.empty() in function 'cv::cvtColor'\n",
      "\n",
      "Exception: OpenCV(4.5.1) C:\\Users\\appveyor\\AppData\\Local\\Temp\\1\\pip-req-build-kh7iq4w7\\opencv\\modules\\imgproc\\src\\color.cpp:182: error: (-215:Assertion failed) !_src.empty() in function 'cv::cvtColor'\n",
      "\n",
      "Exception: OpenCV(4.5.1) C:\\Users\\appveyor\\AppData\\Local\\Temp\\1\\pip-req-build-kh7iq4w7\\opencv\\modules\\imgproc\\src\\color.cpp:182: error: (-215:Assertion failed) !_src.empty() in function 'cv::cvtColor'\n",
      "\n",
      "Exception: OpenCV(4.5.1) C:\\Users\\appveyor\\AppData\\Local\\Temp\\1\\pip-req-build-kh7iq4w7\\opencv\\modules\\imgproc\\src\\color.cpp:182: error: (-215:Assertion failed) !_src.empty() in function 'cv::cvtColor'\n",
      "\n",
      "Exception: OpenCV(4.5.1) C:\\Users\\appveyor\\AppData\\Local\\Temp\\1\\pip-req-build-kh7iq4w7\\opencv\\modules\\imgproc\\src\\color.cpp:182: error: (-215:Assertion failed) !_src.empty() in function 'cv::cvtColor'\n",
      "\n",
      "Exception: OpenCV(4.5.1) C:\\Users\\appveyor\\AppData\\Local\\Temp\\1\\pip-req-build-kh7iq4w7\\opencv\\modules\\imgproc\\src\\color.cpp:182: error: (-215:Assertion failed) !_src.empty() in function 'cv::cvtColor'\n",
      "\n",
      "Exception: OpenCV(4.5.1) C:\\Users\\appveyor\\AppData\\Local\\Temp\\1\\pip-req-build-kh7iq4w7\\opencv\\modules\\imgproc\\src\\color.cpp:182: error: (-215:Assertion failed) !_src.empty() in function 'cv::cvtColor'\n",
      "\n",
      "Exception: OpenCV(4.5.1) C:\\Users\\appveyor\\AppData\\Local\\Temp\\1\\pip-req-build-kh7iq4w7\\opencv\\modules\\imgproc\\src\\color.cpp:182: error: (-215:Assertion failed) !_src.empty() in function 'cv::cvtColor'\n",
      "\n"
     ]
    }
   ],
   "source": [
    "img_size=100\n",
    "data=[]\n",
    "target=[]\n",
    "\n",
    "for category in categories:\n",
    "    folder_path=os.path.join(data_path,category)\n",
    "    img_names=os.listdir(folder_path)\n",
    "        \n",
    "    for img_name in img_names:\n",
    "        img_path=os.path.join(folder_path,img_name)\n",
    "        img=cv2.imread(img_path)\n",
    "\n",
    "        try:\n",
    "            gray=cv2.cvtColor(img,cv2.COLOR_BGR2GRAY)           \n",
    "            resized=cv2.resize(gray,(img_size,img_size))\n",
    "            data.append(resized)\n",
    "            target.append(label_dict[category])\n",
    "           \n",
    "        except Exception as e:\n",
    "            print('Exception:',e)"
   ]
  },
  {
   "cell_type": "code",
   "execution_count": 3,
   "metadata": {},
   "outputs": [
    {
     "name": "stdout",
     "output_type": "stream",
     "text": [
      "(3810, 100, 100)\n",
      "(3810, 100, 100, 1)\n"
     ]
    }
   ],
   "source": [
    "import numpy as np\n",
    "data=np.array(data)/255.0\n",
    "print(data.shape)\n",
    "data=np.reshape(data,(data.shape[0],img_size,img_size,1))\n",
    "print(data.shape)\n",
    "target=np.array(target)\n",
    "\n",
    "from keras.utils import np_utils\n",
    "new_target=np_utils.to_categorical(target)\n",
    "np.save('data',data)\n",
    "np.save('target',new_target)"
   ]
  },
  {
   "cell_type": "code",
   "execution_count": 4,
   "metadata": {},
   "outputs": [],
   "source": [
    "from tensorflow.keras.preprocessing.image import ImageDataGenerator\n",
    "aug = ImageDataGenerator(\n",
    "    rotation_range=20,\n",
    "    zoom_range=0.15,\n",
    "    width_shift_range=0.2,\n",
    "    height_shift_range=0.2,\n",
    "    shear_range=0.15,\n",
    "    horizontal_flip=True,\n",
    "    fill_mode=\"nearest\")"
   ]
  },
  {
   "cell_type": "code",
   "execution_count": 5,
   "metadata": {},
   "outputs": [
    {
     "name": "stdout",
     "output_type": "stream",
     "text": [
      "(3810, 100, 100, 1)\n"
     ]
    }
   ],
   "source": [
    "data=np.load('data.npy')\n",
    "print(data.shape)\n",
    "target=np.load('target.npy')\n",
    "#print(target)\n",
    "#print(data)"
   ]
  },
  {
   "cell_type": "code",
   "execution_count": 6,
   "metadata": {
    "scrolled": true
   },
   "outputs": [
    {
     "name": "stdout",
     "output_type": "stream",
     "text": [
      "Model: \"sequential\"\n",
      "_________________________________________________________________\n",
      "Layer (type)                 Output Shape              Param #   \n",
      "=================================================================\n",
      "conv2d (Conv2D)              (None, 98, 98, 64)        640       \n",
      "_________________________________________________________________\n",
      "activation (Activation)      (None, 98, 98, 64)        0         \n",
      "_________________________________________________________________\n",
      "max_pooling2d (MaxPooling2D) (None, 49, 49, 64)        0         \n",
      "_________________________________________________________________\n",
      "conv2d_1 (Conv2D)            (None, 47, 47, 128)       73856     \n",
      "_________________________________________________________________\n",
      "activation_1 (Activation)    (None, 47, 47, 128)       0         \n",
      "_________________________________________________________________\n",
      "max_pooling2d_1 (MaxPooling2 (None, 23, 23, 128)       0         \n",
      "_________________________________________________________________\n",
      "flatten (Flatten)            (None, 67712)             0         \n",
      "_________________________________________________________________\n",
      "dropout (Dropout)            (None, 67712)             0         \n",
      "_________________________________________________________________\n",
      "dense (Dense)                (None, 64)                4333632   \n",
      "_________________________________________________________________\n",
      "dense_1 (Dense)              (None, 2)                 130       \n",
      "=================================================================\n",
      "Total params: 4,408,258\n",
      "Trainable params: 4,408,258\n",
      "Non-trainable params: 0\n",
      "_________________________________________________________________\n"
     ]
    }
   ],
   "source": [
    "from tensorflow import keras\n",
    "from keras.models import Sequential\n",
    "from keras.layers import Dense,Activation,Flatten,Dropout\n",
    "from keras.layers import Conv2D,MaxPooling2D\n",
    "from keras.callbacks import ModelCheckpoint\n",
    "\n",
    "model=Sequential()\n",
    "\n",
    "model.add(Conv2D(64,(3,3),input_shape=data.shape[1:]))\n",
    "model.add(Activation('relu'))\n",
    "model.add(MaxPooling2D(pool_size=(2,2)))\n",
    "\n",
    "model.add(Conv2D(128,(3,3)))\n",
    "model.add(Activation('relu'))\n",
    "model.add(MaxPooling2D(pool_size=(2,2)))\n",
    "\n",
    "model.add(Flatten())\n",
    "model.add(Dropout(0.5))\n",
    "\n",
    "model.add(Dense(64,activation='relu'))\n",
    "model.add(Dense(2,activation='softmax'))\n",
    "opt = keras.optimizers.Adam(learning_rate=0.001)\n",
    "model.compile(loss='binary_crossentropy',optimizer=opt,metrics=['accuracy'])\n",
    "\n",
    "model.summary()"
   ]
  },
  {
   "cell_type": "code",
   "execution_count": 7,
   "metadata": {
    "scrolled": false
   },
   "outputs": [
    {
     "name": "stdout",
     "output_type": "stream",
     "text": [
      "Epoch 1/20\n",
      "86/86 [==============================] - 54s 607ms/step - loss: 0.6576 - accuracy: 0.6332 - val_loss: 0.4117 - val_accuracy: 0.8107\n",
      "\n",
      "Epoch 00001: saving model to modelmask.model\n",
      "INFO:tensorflow:Assets written to: modelmask.model\\assets\n",
      "Epoch 2/20\n",
      "86/86 [==============================] - 47s 542ms/step - loss: 0.3887 - accuracy: 0.8333 - val_loss: 0.3469 - val_accuracy: 0.8333\n",
      "\n",
      "Epoch 00002: saving model to modelmask.model\n",
      "INFO:tensorflow:Assets written to: modelmask.model\\assets\n",
      "Epoch 3/20\n",
      "86/86 [==============================] - 50s 586ms/step - loss: 0.2872 - accuracy: 0.8797 - val_loss: 0.3158 - val_accuracy: 0.8848\n",
      "\n",
      "Epoch 00003: saving model to modelmask.model\n",
      "INFO:tensorflow:Assets written to: modelmask.model\\assets\n",
      "Epoch 4/20\n",
      "86/86 [==============================] - 48s 563ms/step - loss: 0.2090 - accuracy: 0.9150 - val_loss: 0.2655 - val_accuracy: 0.8889\n",
      "\n",
      "Epoch 00004: saving model to modelmask.model\n",
      "INFO:tensorflow:Assets written to: modelmask.model\\assets\n",
      "Epoch 5/20\n",
      "86/86 [==============================] - 48s 557ms/step - loss: 0.1771 - accuracy: 0.9285 - val_loss: 0.2800 - val_accuracy: 0.9095\n",
      "\n",
      "Epoch 00005: saving model to modelmask.model\n",
      "INFO:tensorflow:Assets written to: modelmask.model\\assets\n",
      "Epoch 6/20\n",
      "86/86 [==============================] - 50s 576ms/step - loss: 0.1397 - accuracy: 0.9531 - val_loss: 0.2166 - val_accuracy: 0.9259\n",
      "\n",
      "Epoch 00006: saving model to modelmask.model\n",
      "INFO:tensorflow:Assets written to: modelmask.model\\assets\n",
      "Epoch 7/20\n",
      "86/86 [==============================] - 51s 589ms/step - loss: 0.0937 - accuracy: 0.9612 - val_loss: 0.2167 - val_accuracy: 0.9259\n",
      "\n",
      "Epoch 00007: saving model to modelmask.model\n",
      "INFO:tensorflow:Assets written to: modelmask.model\\assets\n",
      "Epoch 8/20\n",
      "86/86 [==============================] - 49s 574ms/step - loss: 0.0775 - accuracy: 0.9721 - val_loss: 0.2514 - val_accuracy: 0.9383\n",
      "\n",
      "Epoch 00008: saving model to modelmask.model\n",
      "INFO:tensorflow:Assets written to: modelmask.model\\assets\n",
      "Epoch 9/20\n",
      "86/86 [==============================] - 53s 613ms/step - loss: 0.0445 - accuracy: 0.9885 - val_loss: 0.2527 - val_accuracy: 0.9136\n",
      "\n",
      "Epoch 00009: saving model to modelmask.model\n",
      "INFO:tensorflow:Assets written to: modelmask.model\\assets\n",
      "Epoch 10/20\n",
      "86/86 [==============================] - 47s 544ms/step - loss: 0.0664 - accuracy: 0.9787 - val_loss: 0.2889 - val_accuracy: 0.9177\n",
      "\n",
      "Epoch 00010: saving model to modelmask.model\n",
      "INFO:tensorflow:Assets written to: modelmask.model\\assets\n",
      "Epoch 11/20\n",
      "86/86 [==============================] - 48s 554ms/step - loss: 0.0352 - accuracy: 0.9887 - val_loss: 0.2810 - val_accuracy: 0.9342\n",
      "\n",
      "Epoch 00011: saving model to modelmask.model\n",
      "INFO:tensorflow:Assets written to: modelmask.model\\assets\n",
      "Epoch 12/20\n",
      "86/86 [==============================] - 44s 515ms/step - loss: 0.0303 - accuracy: 0.9913 - val_loss: 0.3116 - val_accuracy: 0.9321\n",
      "\n",
      "Epoch 00012: saving model to modelmask.model\n",
      "INFO:tensorflow:Assets written to: modelmask.model\\assets\n",
      "Epoch 13/20\n",
      "86/86 [==============================] - 44s 517ms/step - loss: 0.0264 - accuracy: 0.9925 - val_loss: 0.2839 - val_accuracy: 0.9342\n",
      "\n",
      "Epoch 00013: saving model to modelmask.model\n",
      "INFO:tensorflow:Assets written to: modelmask.model\\assets\n",
      "Epoch 14/20\n",
      "86/86 [==============================] - 44s 512ms/step - loss: 0.0264 - accuracy: 0.9907 - val_loss: 0.2532 - val_accuracy: 0.9465\n",
      "\n",
      "Epoch 00014: saving model to modelmask.model\n",
      "INFO:tensorflow:Assets written to: modelmask.model\\assets\n",
      "Epoch 15/20\n",
      "86/86 [==============================] - 44s 511ms/step - loss: 0.0170 - accuracy: 0.9969 - val_loss: 0.3039 - val_accuracy: 0.9424\n",
      "\n",
      "Epoch 00015: saving model to modelmask.model\n",
      "INFO:tensorflow:Assets written to: modelmask.model\\assets\n",
      "Epoch 16/20\n",
      "86/86 [==============================] - 44s 514ms/step - loss: 0.0214 - accuracy: 0.9944 - val_loss: 0.3419 - val_accuracy: 0.9321\n",
      "\n",
      "Epoch 00016: saving model to modelmask.model\n",
      "INFO:tensorflow:Assets written to: modelmask.model\\assets\n",
      "Epoch 17/20\n",
      "86/86 [==============================] - 45s 521ms/step - loss: 0.0148 - accuracy: 0.9967 - val_loss: 0.3303 - val_accuracy: 0.9444\n",
      "\n",
      "Epoch 00017: saving model to modelmask.model\n",
      "INFO:tensorflow:Assets written to: modelmask.model\\assets\n",
      "Epoch 18/20\n",
      "86/86 [==============================] - 44s 512ms/step - loss: 0.0497 - accuracy: 0.9784 - val_loss: 0.3806 - val_accuracy: 0.9300\n",
      "\n",
      "Epoch 00018: saving model to modelmask.model\n",
      "INFO:tensorflow:Assets written to: modelmask.model\\assets\n",
      "Epoch 19/20\n",
      "86/86 [==============================] - 44s 511ms/step - loss: 0.0171 - accuracy: 0.9951 - val_loss: 0.3546 - val_accuracy: 0.9383\n",
      "\n",
      "Epoch 00019: saving model to modelmask.model\n",
      "INFO:tensorflow:Assets written to: modelmask.model\\assets\n",
      "Epoch 20/20\n",
      "86/86 [==============================] - 44s 512ms/step - loss: 0.0086 - accuracy: 0.9976 - val_loss: 0.3920 - val_accuracy: 0.9342\n",
      "\n",
      "Epoch 00020: saving model to modelmask.model\n",
      "INFO:tensorflow:Assets written to: modelmask.model\\assets\n",
      "score [0.06021100655198097, 0.9901173710823059]\n"
     ]
    }
   ],
   "source": [
    "from sklearn.model_selection import train_test_split\n",
    "train_data,test_data,train_target,test_target=train_test_split(data,target,test_size=0.15)\n",
    "\n",
    "checkpoint = ModelCheckpoint('modelmask.model',monitor='val_loss',verbose=1,save_best_only=False,mode='auto')\n",
    "history=model.fit(train_data,train_target,epochs=20,callbacks=[checkpoint],validation_split=0.15)\n",
    "score= model.evaluate(train_data,train_target, verbose=0)\n",
    "print(\"score\", score)\n"
   ]
  },
  {
   "cell_type": "code",
   "execution_count": 8,
   "metadata": {},
   "outputs": [
    {
     "name": "stdout",
     "output_type": "stream",
     "text": [
      "              precision    recall  f1-score   support\n",
      "\n",
      "           0       0.94      0.93      0.93       296\n",
      "           1       0.92      0.93      0.93       276\n",
      "\n",
      "    accuracy                           0.93       572\n",
      "   macro avg       0.93      0.93      0.93       572\n",
      "weighted avg       0.93      0.93      0.93       572\n",
      "\n"
     ]
    }
   ],
   "source": [
    "from sklearn.metrics import classification_report\n",
    "predIdxs = model.predict(test_data, batch_size=32)\n",
    "predIdxs = np.argmax(predIdxs, axis=1)\n",
    "print(classification_report(test_target.argmax(axis=1), predIdxs))"
   ]
  },
  {
   "cell_type": "code",
   "execution_count": 9,
   "metadata": {},
   "outputs": [
    {
     "data": {
      "image/png": "[encoded data removed]",
      "text/plain": [
       "<Figure size 432x288 with 1 Axes>"
      ]
     },
     "metadata": {
      "needs_background": "light"
     },
     "output_type": "display_data"
    }
   ],
   "source": [
    "from matplotlib import pyplot as plt\n",
    "\n",
    "plt.plot(history.history['loss'],'r',label='training loss')\n",
    "plt.plot(history.history['val_loss'],label='validation loss')\n",
    "plt.xlabel('# epochs')\n",
    "plt.ylabel('loss')\n",
    "plt.legend()\n",
    "plt.show()"
   ]
  },
  {
   "cell_type": "code",
   "execution_count": 10,
   "metadata": {},
   "outputs": [
    {
     "data": {
      "image/png": "[encoded data removed]",
      "text/plain": [
       "<Figure size 432x288 with 1 Axes>"
      ]
     },
     "metadata": {
      "needs_background": "light"
     },
     "output_type": "display_data"
    }
   ],
   "source": [
    "plt.plot(history.history['accuracy'],'r',label='training accuracy')\n",
    "plt.plot(history.history['val_accuracy'],label='validation accuracy')\n",
    "plt.xlabel('# epochs')\n",
    "plt.ylabel('loss')\n",
    "plt.legend()\n",
    "plt.show()"
   ]
  },
  {
   "cell_type": "code",
   "execution_count": 11,
   "metadata": {},
   "outputs": [
    {
     "name": "stdout",
     "output_type": "stream",
     "text": [
      "18/18 [==============================] - 2s 123ms/step - loss: 0.4639 - accuracy: 0.9318\n",
      "[0.4638890027999878, 0.9318181872367859]\n"
     ]
    }
   ],
   "source": [
    "print(model.evaluate(test_data,test_target))"
   ]
  },
  {
   "cell_type": "code",
   "execution_count": null,
   "metadata": {},
   "outputs": [],
   "source": []
  },
  {
   "cell_type": "code",
   "execution_count": null,
   "metadata": {},
   "outputs": [],
   "source": []
  },
  {
   "cell_type": "code",
   "execution_count": null,
   "metadata": {},
   "outputs": [],
   "source": []
  },
  {
   "cell_type": "code",
   "execution_count": null,
   "metadata": {},
   "outputs": [],
   "source": []
  },
  {
   "cell_type": "code",
   "execution_count": null,
   "metadata": {},
   "outputs": [],
   "source": []
  }
 ],
 "metadata": {
  "kernelspec": {
   "display_name": "Python 3 (ipykernel)",
   "language": "python",
   "name": "python3"
  },
  "language_info": {
   "codemirror_mode": {
    "name": "ipython",
    "version": 3
   },
   "file_extension": ".py",
   "mimetype": "text/x-python",
   "name": "python",
   "nbconvert_exporter": "python",
   "pygments_lexer": "ipython3",
   "version": "3.9.2"
  }
 },
 "nbformat": 4,
 "nbformat_minor": 4
}
